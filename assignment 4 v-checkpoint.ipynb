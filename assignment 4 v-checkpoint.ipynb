{
 "cells": [
  {
   "cell_type": "code",
   "execution_count": 1,
   "id": "66777fc9",
   "metadata": {},
   "outputs": [],
   "source": [
    "#Write a program to identify duplicate values from list.\n"
   ]
  },
  {
   "cell_type": "code",
   "execution_count": 2,
   "id": "24607baf",
   "metadata": {},
   "outputs": [
    {
     "name": "stdout",
     "output_type": "stream",
     "text": [
      "{9, 2, 5, 1}\n"
     ]
    }
   ],
   "source": [
    "myList = [9, 1, 5, 9, 4, 2, 7, 2, 9, 5, 1]\n",
    "occurrences = []\n",
    " \n",
    "for item in myList :\n",
    "    count = 0\n",
    "    for x in myList :\n",
    "        if x == item :\n",
    "            count += 1\n",
    "    occurrences.append(count)\n",
    "\n",
    "duplicates = set()\n",
    "index = 0\n",
    "while index < len(myList) :\n",
    "    if occurrences[index] != 1 :\n",
    "        duplicates.add(myList[index])\n",
    "    index += 1\n",
    "\n",
    "print(duplicates)"
   ]
  },
  {
   "cell_type": "code",
   "execution_count": null,
   "id": "4ccd83ed",
   "metadata": {},
   "outputs": [],
   "source": []
  }
 ],
 "metadata": {
  "kernelspec": {
   "display_name": "Python 3",
   "language": "python",
   "name": "python3"
  },
  "language_info": {
   "codemirror_mode": {
    "name": "ipython",
    "version": 3
   },
   "file_extension": ".py",
   "mimetype": "text/x-python",
   "name": "python",
   "nbconvert_exporter": "python",
   "pygments_lexer": "ipython3",
   "version": "3.8.8"
  }
 },
 "nbformat": 4,
 "nbformat_minor": 5
}
